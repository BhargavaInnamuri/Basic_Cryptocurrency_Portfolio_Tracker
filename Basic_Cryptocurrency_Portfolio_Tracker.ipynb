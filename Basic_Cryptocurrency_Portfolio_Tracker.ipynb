{
  "nbformat": 4,
  "nbformat_minor": 0,
  "metadata": {
    "colab": {
      "provenance": []
    },
    "kernelspec": {
      "name": "python3",
      "display_name": "Python 3"
    },
    "language_info": {
      "name": "python"
    }
  },
  "cells": [
    {
      "cell_type": "code",
      "execution_count": 1,
      "metadata": {
        "id": "kPH5b8Hw3nY6"
      },
      "outputs": [],
      "source": [
        "#Import Required Libraries\n",
        "import json\n",
        "import requests"
      ]
    },
    {
      "cell_type": "code",
      "source": [
        "# Define API endpoint and headers\n",
        "api_url = \"https://api.coingecko.com/api/v3/simple/price\"\n",
        "headers = {\n",
        "    \"Accepts\": \"application/json\",\n",
        "    \"X-CMC_PRO_API_KEY\": \"YOUR_API_KEY\"  # Make sure to replace with your actual API key\n",
        "}"
      ],
      "metadata": {
        "id": "q9Sc7DbS3wOp"
      },
      "execution_count": 2,
      "outputs": []
    },
    {
      "cell_type": "code",
      "source": [
        "# Get user input for cryptocurrency symbols\n",
        "symbols_input = input(\"Enter a comma-separated list of cryptocurrency symbols: \").upper().split(',')\n",
        "\n",
        "# Map common symbol abbreviations to CoinGecko IDs (you might need to expand this list)\n",
        "symbol_mapping = {\n",
        "    \"BTC\": \"Bitcoin\",\n",
        "    \"ETH\": \"Ethereum\",\n",
        "    \"LTC\": \"Litecoin\"\n",
        "}"
      ],
      "metadata": {
        "colab": {
          "base_uri": "https://localhost:8080/"
        },
        "id": "3xs3S0ON30Jh",
        "outputId": "3fdb1b49-d9e0-4d4f-89db-f12668f388b5"
      },
      "execution_count": 3,
      "outputs": [
        {
          "name": "stdout",
          "output_type": "stream",
          "text": [
            "Enter a comma-separated list of cryptocurrency symbols: BTC,ETH,LTC\n"
          ]
        }
      ]
    },
    {
      "cell_type": "code",
      "source": [
        "# Translate user input to CoinGecko IDs\n",
        "coin_ids = [symbol_mapping.get(symbol.strip(), symbol.strip()) for symbol in symbols_input]"
      ],
      "metadata": {
        "id": "Gp5AFAsW30GA"
      },
      "execution_count": 4,
      "outputs": []
    },
    {
      "cell_type": "code",
      "source": [
        "# Initialize portfolio dictionary and get quantities\n",
        "portfolio = {}\n",
        "for coin_id in coin_ids:\n",
        "    quantity = float(input(f\"Enter the quantity of {coin_id}: \"))\n",
        "    portfolio[coin_id] = {\"quantity\": quantity}\n"
      ],
      "metadata": {
        "colab": {
          "base_uri": "https://localhost:8080/"
        },
        "id": "aw1IS1SG30Dj",
        "outputId": "b9b28dca-4455-4aef-ec57-e71ada156d0e"
      },
      "execution_count": 5,
      "outputs": [
        {
          "name": "stdout",
          "output_type": "stream",
          "text": [
            "Enter the quantity of bitcoin: 2.5\n",
            "Enter the quantity of ethereum: 5.0\n",
            "Enter the quantity of litecoin: 10.0\n"
          ]
        }
      ]
    },
    {
      "cell_type": "code",
      "source": [
        "# Prepare parameters for API request\n",
        "params = {\n",
        "    \"ids\": \",\".join(portfolio.keys()),\n",
        "    \"vs_currencies\": \"usd\"\n",
        "}"
      ],
      "metadata": {
        "id": "CWhOG_B438ch"
      },
      "execution_count": 6,
      "outputs": []
    },
    {
      "cell_type": "code",
      "source": [
        "# Fetch cryptocurrency data from API\n",
        "response = requests.get(url=api_url, headers=headers, params=params)"
      ],
      "metadata": {
        "id": "bsqL7AYt4AKv"
      },
      "execution_count": 7,
      "outputs": []
    },
    {
      "cell_type": "code",
      "source": [
        "# Check if the API request was successful\n",
        "if response.status_code == 200:\n",
        "    data = json.loads(response.text)\n",
        "\n",
        "    # Update portfolio with price and value\n",
        "    for coin_id, info in portfolio.items():\n",
        "        if coin_id in data:\n",
        "            price = float(data[coin_id].get(\"usd\", 0))\n",
        "            info[\"price\"] = price\n",
        "            info[\"value\"] = price * info[\"quantity\"]\n",
        "        else:\n",
        "            print(f\"Warning: Price not found for {coin_id}. Setting value to 0.\")\n",
        "            info[\"price\"] = 0\n",
        "            info[\"value\"] = 0\n",
        "            # Print portfolio summary\n",
        "    total_value = 0\n",
        "    print(\"\\nPortfolio Summary:\")\n",
        "    for coin_id, info in portfolio.items():\n",
        "        print(f\"- {coin_id}: {info['quantity']} @ ${info['price']:.2f} = ${info['value']:.2f}\")\n",
        "        total_value += info[\"value\"]\n",
        "\n",
        "    print(f\"\\nTotal Portfolio Value: ${total_value:.2f}\")\n",
        "\n",
        "else:\n",
        "    print(f\"Error fetching data. Status code: {response.status_code}\")\n",
        "    print(response.text)\n"
      ],
      "metadata": {
        "colab": {
          "base_uri": "https://localhost:8080/"
        },
        "id": "aap9h18W4AFz",
        "outputId": "499c1808-e491-48b2-8eb6-b8d2c9f94677"
      },
      "execution_count": 8,
      "outputs": [
        {
          "output_type": "stream",
          "name": "stdout",
          "text": [
            "\n",
            "Portfolio Summary:\n",
            "- bitcoin: 2.5 @ $69364.00 = $173410.00\n",
            "- ethereum: 5.0 @ $3692.26 = $18461.30\n",
            "- litecoin: 10.0 @ $80.12 = $801.20\n",
            "\n",
            "Total Portfolio Value: $192672.50\n"
          ]
        }
      ]
    }
  ]
}