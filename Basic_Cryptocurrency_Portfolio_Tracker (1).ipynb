{
  "nbformat": 4,
  "nbformat_minor": 0,
  "metadata": {
    "colab": {
      "provenance": []
    },
    "kernelspec": {
      "name": "python3",
      "display_name": "Python 3"
    },
    "language_info": {
      "name": "python"
    }
  },
  "cells": [
    {
      "cell_type": "code",
      "execution_count": 23,
      "metadata": {
        "id": "kPH5b8Hw3nY6"
      },
      "outputs": [],
      "source": [
        "#Import Required Libraries\n",
        "import json\n",
        "import requests\n",
        "import matplotlib.pyplot as plt"
      ]
    },
    {
      "cell_type": "code",
      "source": [
        "# Define API endpoint and headers\n",
        "api_url = \"https://api.coingecko.com/api/v3/simple/price\"\n",
        "headers = {\n",
        "    \"Accepts\": \"application/json\",\n",
        "    \"X-CMC_PRO_API_KEY\": \"YOUR_API_KEY\"  # Make sure to replace with your actual API key\n",
        "}"
      ],
      "metadata": {
        "id": "q9Sc7DbS3wOp"
      },
      "execution_count": 24,
      "outputs": []
    },
    {
      "cell_type": "code",
      "source": [
        "# Get user input for cryptocurrency symbols\n",
        "symbols_input = input(\"Enter a comma-separated list of cryptocurrency symbols: \").upper().split(',')\n",
        "\n",
        "# Map common symbol abbreviations to CoinGecko IDs (you might need to expand this list)\n",
        "symbol_mapping = {\n",
        "    \"BTC\": \"bitcoin\",  # IDs should be lowercase\n",
        "    \"ETH\": \"ethereum\",\n",
        "    \"LTC\": \"litecoin\"\n",
        "}"
      ],
      "metadata": {
        "colab": {
          "base_uri": "https://localhost:8080/"
        },
        "id": "3xs3S0ON30Jh",
        "outputId": "24ffe451-a1b0-4e38-d8e5-b91492a72aae"
      },
      "execution_count": 25,
      "outputs": [
        {
          "name": "stdout",
          "output_type": "stream",
          "text": [
            "Enter a comma-separated list of cryptocurrency symbols: BTC,ETH,LTC\n"
          ]
        }
      ]
    },
    {
      "cell_type": "code",
      "source": [
        "# Translate user input to CoinGecko IDs (lowercase)\n",
        "coin_ids = [symbol_mapping.get(symbol.strip(), symbol.strip().lower()) for symbol in symbols_input]"
      ],
      "metadata": {
        "id": "Gp5AFAsW30GA"
      },
      "execution_count": 26,
      "outputs": []
    },
    {
      "cell_type": "code",
      "source": [
        "# Initialize portfolio dictionary and get quantities\n",
        "portfolio = {}\n",
        "for coin_id in coin_ids:\n",
        "    quantity = float(input(f\"Enter the quantity of {coin_id}: \"))\n",
        "    portfolio[coin_id] = {\"quantity\": quantity}\n"
      ],
      "metadata": {
        "colab": {
          "base_uri": "https://localhost:8080/"
        },
        "id": "aw1IS1SG30Dj",
        "outputId": "764053a5-4630-4292-962a-bcfe48cbda23"
      },
      "execution_count": 27,
      "outputs": [
        {
          "name": "stdout",
          "output_type": "stream",
          "text": [
            "Enter the quantity of bitcoin: 2.5\n",
            "Enter the quantity of ethereum: 5.0\n",
            "Enter the quantity of litecoin: 10.0\n"
          ]
        }
      ]
    },
    {
      "cell_type": "code",
      "source": [
        "# Prepare parameters for API request\n",
        "params = {\n",
        "    \"ids\": \",\".join(portfolio.keys()),\n",
        "    \"vs_currencies\": \"usd\"\n",
        "}"
      ],
      "metadata": {
        "id": "CWhOG_B438ch"
      },
      "execution_count": 28,
      "outputs": []
    },
    {
      "cell_type": "code",
      "source": [
        "# Fetch cryptocurrency data from API\n",
        "response = requests.get(url=api_url, headers=headers, params=params)"
      ],
      "metadata": {
        "id": "bsqL7AYt4AKv"
      },
      "execution_count": 29,
      "outputs": []
    },
    {
      "cell_type": "code",
      "source": [
        "# Check if the API request was successful\n",
        "if response.status_code == 200:\n",
        "    data = json.loads(response.text)\n",
        "\n",
        "    # Update portfolio with price and value\n",
        "    for coin_id, info in portfolio.items():\n",
        "        if coin_id in data:\n",
        "            price = float(data[coin_id].get(\"usd\", 0))\n",
        "            info[\"price\"] = price\n",
        "            info[\"value\"] = price * info[\"quantity\"]\n",
        "        else:\n",
        "            print(f\"Warning: Price not found for {coin_id}. Setting value to 0.\")\n",
        "            info[\"price\"] = 0\n",
        "            info[\"value\"] = 0\n",
        "\n",
        "    # Print portfolio summary\n",
        "    total_value = 0\n",
        "    print(\"\\nPortfolio Summary:\")\n",
        "    for coin_id, info in portfolio.items():\n",
        "        print(f\"- {coin_id}: {info['quantity']} @ ${info['price']:.2f} = ${info['value']:.2f}\")\n",
        "        total_value += info[\"value\"]\n",
        "\n",
        "    print(f\"\\nTotal Portfolio Value: ${total_value:.2f}\")\n",
        "\n",
        "    # Data visualization\n",
        "    coin_names = list(portfolio.keys())\n",
        "    values = [info[\"value\"] for info in portfolio.values()]\n",
        "\n",
        "    fig, ax = plt.subplots()\n",
        "    ax.bar(coin_names, values)\n",
        "    plt.xlabel(\"Cryptocurrency\")\n",
        "    plt.ylabel(\"Value (USD)\")\n",
        "    plt.title(\"Portfolio Value Breakdown\")\n",
        "    plt.show()\n",
        "\n",
        "else:\n",
        "    print(f\"Error fetching data. Status code: {response.status_code}\")\n",
        "    print(response.text)"
      ],
      "metadata": {
        "colab": {
          "base_uri": "https://localhost:8080/",
          "height": 593
        },
        "id": "aap9h18W4AFz",
        "outputId": "1925dd5b-c95f-4ece-d242-000409c8b08e"
      },
      "execution_count": 30,
      "outputs": [
        {
          "output_type": "stream",
          "name": "stdout",
          "text": [
            "\n",
            "Portfolio Summary:\n",
            "- bitcoin: 2.5 @ $69432.00 = $173580.00\n",
            "- ethereum: 5.0 @ $3688.59 = $18442.95\n",
            "- litecoin: 10.0 @ $79.98 = $799.80\n",
            "\n",
            "Total Portfolio Value: $192822.75\n"
          ]
        },
        {
          "output_type": "display_data",
          "data": {
            "text/plain": [
              "<Figure size 640x480 with 1 Axes>"
            ],
            "image/png": "[encoded data removed]"
          },
          "metadata": {}
        }
      ]
    }
  ]
}